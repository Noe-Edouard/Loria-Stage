{
 "cells": [
  {
   "cell_type": "code",
   "execution_count": 1,
   "id": "b04d1214",
   "metadata": {},
   "outputs": [
    {
     "name": "stdout",
     "output_type": "stream",
     "text": [
      "[########################################] | 100% Completed | 2.18 sms\n",
      "[########################################] | 100% Completed | 4.10 sms\n",
      "\u001b[32m08:35:38 - [INFO]:\u001b[0m ======================================== RESUME ========================================\n",
      "\u001b[0m\n",
      "\u001b[32m08:35:38 - [INFO]:\u001b[0m \n",
      "Influence du nombre d'échelle sur le temps d'exécution du réhaussement\n",
      "\u001b[0m\n",
      "\u001b[32m08:35:38 - [INFO]:\u001b[0m Scales number:    [2, 4]\u001b[0m\n",
      "\u001b[32m08:35:38 - [INFO]:\u001b[0m Times sequential: [0.4265462999974261, 0.526276800002961]\u001b[0m\n",
      "\u001b[32m08:35:38 - [INFO]:\u001b[0m Times parallel:   [6.470020900000236, 4.167211899999529]\u001b[0m\n",
      "\u001b[32m08:35:38 - [INFO]:\u001b[0m \n",
      "|   Scales (num) |   Time sequential (s) |   Time parallel (s) |\n",
      "|----------------|-----------------------|---------------------|\n",
      "|              2 |                 0.427 |               6.470 |\n",
      "|              4 |                 0.526 |               4.167 |\u001b[0m\n",
      "\u001b[32m08:35:38 - [INFO]:\u001b[0m ========================================================================================\n",
      "\u001b[0m\n",
      "[########################################] | 100% Completed | 2.52 sms\n",
      "[########################################] | 100% Completed | 3.24 sms\n",
      "\u001b[32m08:35:46 - [INFO]:\u001b[0m ======================================== RESUME ========================================\n",
      "\u001b[0m\n",
      "\u001b[32m08:35:46 - [INFO]:\u001b[0m \n",
      "Influence de la taille du volume sur le temps d'exécution du réhaussement\n",
      "\u001b[0m\n",
      "\u001b[32m08:35:46 - [INFO]:\u001b[0m Volume sizes:     [32 64]\u001b[0m\n",
      "\u001b[32m08:35:46 - [INFO]:\u001b[0m Times sequential: [0.3103192000053241, 0.9942570999992313]\u001b[0m\n",
      "\u001b[32m08:35:46 - [INFO]:\u001b[0m Times parallel:   [2.6101875999956974, 3.32195099999808]\u001b[0m\n",
      "\u001b[32m08:35:46 - [INFO]:\u001b[0m \n",
      "|   Scales (num) |   Time sequential (s) |   Time parallel (s) |\n",
      "|----------------|-----------------------|---------------------|\n",
      "|         32.000 |                 0.310 |               2.610 |\n",
      "|         64.000 |                 0.994 |               3.322 |\u001b[0m\n",
      "========================================================================================\n",
      "\n",
      "[########################################] | 100% Completed | 2.59 sms\n",
      "[########################################] | 100% Completed | 2.55 sms\n",
      "\u001b[32m08:35:53 - [INFO]:\u001b[0m ======================================== RESUME ========================================\n",
      "\u001b[0m\n",
      "\u001b[32m08:35:53 - [INFO]:\u001b[0m \n",
      "Influence du nombre de chunk sur le temps d'exécution du réhaussement\n",
      "\u001b[0m\n",
      "\u001b[32m08:35:53 - [INFO]:\u001b[0m Volume sizes:     32\u001b[0m\n",
      "\u001b[32m08:35:53 - [INFO]:\u001b[0m Chunk number:     4\u001b[0m\n",
      "\u001b[32m08:35:53 - [INFO]:\u001b[0m Chunk sises:      [16, 8]\u001b[0m\n",
      "\u001b[32m08:35:53 - [INFO]:\u001b[0m Times (parallel): [2.6615614000038477, 2.6376338000045507]\u001b[0m\n",
      "\u001b[32m08:35:53 - [INFO]:\u001b[0m \n",
      "|   Chunk number |   Chunk size (vx) |   Time parallel (s) |\n",
      "|----------------|-------------------|---------------------|\n",
      "|              2 |                16 |               2.662 |\n",
      "|              4 |                 8 |               2.638 |\u001b[0m\n",
      "\u001b[32m08:35:53 - [INFO]:\u001b[0m ========================================================================================\n",
      "\u001b[0m\n",
      "[########################################] | 100% Completed | 3.39 sms\n",
      "[########################################] | 100% Completed | 22.96 ss\n",
      "\u001b[32m08:36:20 - [INFO]:\u001b[0m ======================================== RESUME ========================================\n",
      "\u001b[0m\n",
      "\u001b[32m08:36:20 - [INFO]:\u001b[0m \n",
      "Influence du nombre de chunk sur le temps d'exécution du réhaussement\n",
      "\u001b[0m\n",
      "\u001b[32m08:36:20 - [INFO]:\u001b[0m Volume sizes:     64\u001b[0m\n",
      "\u001b[32m08:36:20 - [INFO]:\u001b[0m Chunk number:     4\u001b[0m\n",
      "\u001b[32m08:36:20 - [INFO]:\u001b[0m Chunk sises:      [32, 16]\u001b[0m\n",
      "\u001b[32m08:36:20 - [INFO]:\u001b[0m Times (parallel): [3.5068361000012374, 23.19713519999641]\u001b[0m\n",
      "\u001b[32m08:36:20 - [INFO]:\u001b[0m \n",
      "|   Chunk number |   Chunk size (vx) |   Time parallel (s) |\n",
      "|----------------|-------------------|---------------------|\n",
      "|              2 |                32 |               3.507 |\n",
      "|              4 |                16 |              23.197 |\u001b[0m\n",
      "\u001b[32m08:36:20 - [INFO]:\u001b[0m ========================================================================================\n",
      "\u001b[0m\n"
     ]
    },
    {
     "data": {
      "text/plain": [
       "([32, 64],\n",
       " [2, 4],\n",
       " [[16, 8], [32, 16]],\n",
       " [[2.6615614000038477, 2.6376338000045507],\n",
       "  [3.5068361000012374, 23.19713519999641]])"
      ]
     },
     "execution_count": 1,
     "metadata": {},
     "output_type": "execute_result"
    }
   ],
   "source": [
    "import numpy as np\n",
    "import matplotlib.pyplot as plt\n",
    "from benchmark.computational_time import scale_size_influence, volume_size_influence, chunk_number_influence\n",
    "\n",
    "scale_size_influence(32, (1, 10), [2, 4], 'frangi', 2)\n",
    "volume_size_influence(np.array([32, 64]), 2, (1, 10), 'frangi', 2)\n",
    "chunk_number_influence([32, 64], 2, (1, 10), 'frangi', [2, 4])"
   ]
  }
 ],
 "metadata": {
  "kernelspec": {
   "display_name": "base",
   "language": "python",
   "name": "python3"
  },
  "language_info": {
   "codemirror_mode": {
    "name": "ipython",
    "version": 3
   },
   "file_extension": ".py",
   "mimetype": "text/x-python",
   "name": "python",
   "nbconvert_exporter": "python",
   "pygments_lexer": "ipython3",
   "version": "3.12.7"
  }
 },
 "nbformat": 4,
 "nbformat_minor": 5
}
